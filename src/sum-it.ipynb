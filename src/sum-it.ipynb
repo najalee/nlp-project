{
 "cells": [
  {
   "cell_type": "code",
   "execution_count": null,
   "id": "c4eecb5b-14d9-4f01-a7ac-3cc9049d3291",
   "metadata": {},
   "outputs": [],
   "source": [
    "# training models for najalee/sum-it"
   ]
  },
  {
   "cell_type": "code",
   "execution_count": null,
   "id": "633a1483-4f90-4772-bd38-8b55a62837ed",
   "metadata": {},
   "outputs": [],
   "source": [
    "pip install transformers[torch]"
   ]
  },
  {
   "cell_type": "code",
   "execution_count": null,
   "id": "925e9095-2378-4e00-847e-514f0c914971",
   "metadata": {},
   "outputs": [],
   "source": [
    "pip install torch\n"
   ]
  },
  {
   "cell_type": "code",
   "execution_count": null,
   "id": "73a6b47e-d553-4a9d-aa17-12c032d8ae0e",
   "metadata": {},
   "outputs": [],
   "source": [
    "pip install transformers datasets evaluate rouge_score"
   ]
  },
  {
   "cell_type": "code",
   "execution_count": null,
   "id": "9b6b432f-8d71-4392-a061-ffea12399c20",
   "metadata": {},
   "outputs": [],
   "source": [
    "from huggingface_hub import login\n",
    "login()"
   ]
  },
  {
   "cell_type": "code",
   "execution_count": null,
   "id": "a8b062f6-4975-4f3c-a867-e4d143f6ea1a",
   "metadata": {},
   "outputs": [],
   "source": [
    "import os\n",
    "\n",
    "current_path = os.environ['PATH']\n",
    "\n",
    "git_cmd_path = r\"C:\\Program Files\\Git\\cmd\"\n",
    "git_bin_path = r\"C:\\Program Files\\Git\\bin\"\n",
    "\n",
    "# add paths to current path\n",
    "paths_to_add = [git_cmd_path, git_bin_path]\n",
    "for path in paths_to_add:\n",
    "    if path not in current_path:\n",
    "        current_path = path + \";\" + current_path \n",
    "        print(f\"Added: {path}\")\n",
    "\n",
    "os.environ['PATH'] = current_path\n"
   ]
  },
  {
   "cell_type": "code",
   "execution_count": null,
   "id": "9e0d69f2-5bce-4ef4-8832-5be887dfb1e1",
   "metadata": {},
   "outputs": [],
   "source": [
    "os.environ['PATH']"
   ]
  },
  {
   "cell_type": "code",
   "execution_count": null,
   "id": "5b9d127c-7838-4215-9b8f-bebe4ee5547a",
   "metadata": {},
   "outputs": [],
   "source": [
    "!git clone https://github.com/najalee/nlp-project.git"
   ]
  },
  {
   "cell_type": "code",
   "execution_count": null,
   "id": "e3d5138c-04a1-4095-86e5-79affe37f93c",
   "metadata": {
    "scrolled": true
   },
   "outputs": [],
   "source": [
    "from huggingface_hub import notebook_login\n",
    "notebook_login()"
   ]
  },
  {
   "cell_type": "code",
   "execution_count": null,
   "id": "ac0066ad-308e-4e17-9a47-8b0d33304281",
   "metadata": {},
   "outputs": [],
   "source": [
    "from datasets import load_dataset\n",
    "\n",
    "ds = load_dataset(\"abisee/cnn_dailymail\", \"3.0.0\")"
   ]
  },
  {
   "cell_type": "code",
   "execution_count": null,
   "id": "0bc6a59f-a384-4f85-8a4e-ec9f241acc68",
   "metadata": {},
   "outputs": [],
   "source": [
    "ds = ds[\"train\"].train_test_split(test_size=0.2)"
   ]
  },
  {
   "cell_type": "code",
   "execution_count": null,
   "id": "38b8b2ac-40cb-446a-ae9e-1817dc3a6d83",
   "metadata": {},
   "outputs": [],
   "source": [
    "ds"
   ]
  },
  {
   "cell_type": "code",
   "execution_count": null,
   "id": "d9a52dfa-7e4d-49ae-9343-9279c0656222",
   "metadata": {},
   "outputs": [],
   "source": [
    "# now we preprocess the loaded datatset\n",
    "from transformers import AutoTokenizer"
   ]
  },
  {
   "cell_type": "code",
   "execution_count": null,
   "id": "8151e231-41c6-4cb0-af31-516ce952d614",
   "metadata": {},
   "outputs": [],
   "source": [
    "# load the google t5 tokenizer\n",
    "\n",
    "loadedTokenizer = \"google-t5/t5-small\"\n",
    "tokenizer = AutoTokenizer.from_pretrained(loadedTokenizer)"
   ]
  },
  {
   "cell_type": "code",
   "execution_count": null,
   "id": "af259a1e-9267-48b1-9e98-009b68245fa7",
   "metadata": {},
   "outputs": [],
   "source": [
    "# tell T5 that this is a summzarization task\n",
    "prefix = \"summarize: \"\n",
    "\n",
    "def preprocess_function(artSum):\n",
    "    inputs = [prefix + doc for doc in artSum[\"article\"]]\n",
    "    model_inputs = tokenizer(inputs, max_length=1024, truncation=True)\n",
    "\n",
    "\n",
    "    labels = tokenizer(text_target=artSum[\"highlights\"], max_length=128, truncation=True)\n",
    "\n",
    "    model_inputs[\"labels\"] = labels[\"input_ids\"]\n",
    "    return model_inputs"
   ]
  },
  {
   "cell_type": "code",
   "execution_count": null,
   "id": "b1e64d31-4713-47b8-a907-2f6f6f096895",
   "metadata": {},
   "outputs": [],
   "source": [
    "tokenized_ds = {}\n",
    "tokenized_ds[\"train\"] = ds[\"train\"].shuffle(seed=42).select(range(20000)).map(preprocess_function, batched=True) # create a small dataset so training doesnt take 500 years\n",
    "tokenized_ds[\"test\"] = ds[\"test\"].shuffle(seed=42).select(range(1000)).map(preprocess_function, batched=True)"
   ]
  },
  {
   "cell_type": "code",
   "execution_count": null,
   "id": "63ee0d2f-bfed-4fed-938b-5ceafae04ba7",
   "metadata": {},
   "outputs": [],
   "source": [
    "from transformers import DataCollatorForSeq2Seq\n",
    "\n",
    "data_collator = DataCollatorForSeq2Seq(tokenizer=tokenizer, model=loadedTokenizer)"
   ]
  },
  {
   "cell_type": "code",
   "execution_count": null,
   "id": "b56ad516-d451-4b20-afd9-d88a1677e66d",
   "metadata": {},
   "outputs": [],
   "source": [
    "# evaluate w/ rouge score\n",
    "import evaluate\n",
    "\n",
    "rouge = evaluate.load(\"rouge\")"
   ]
  },
  {
   "cell_type": "code",
   "execution_count": null,
   "id": "d6037a00-5613-42db-9c66-81f997f61b4d",
   "metadata": {},
   "outputs": [],
   "source": [
    "import numpy as np\n",
    "\n",
    "\n",
    "def compute_metrics(eval_pred):\n",
    "    predictions, labels = eval_pred\n",
    "    decoded_preds = tokenizer.batch_decode(predictions, skip_special_tokens=True)\n",
    "    labels = np.where(labels != -100, labels, tokenizer.pad_token_id)\n",
    "    decoded_labels = tokenizer.batch_decode(labels, skip_special_tokens=True)\n",
    "\n",
    "    result = rouge.compute(predictions=decoded_preds, references=decoded_labels, use_stemmer=True)\n",
    "\n",
    "    prediction_lens = [np.count_nonzero(pred != tokenizer.pad_token_id) for pred in predictions]\n",
    "    result[\"gen_len\"] = np.mean(prediction_lens)\n",
    "\n",
    "    return {k: round(v, 4) for k, v in result.items()}\n",
    "    "
   ]
  },
  {
   "cell_type": "code",
   "execution_count": null,
   "id": "a3027e3d-8b10-4dc6-a249-0d43241df174",
   "metadata": {},
   "outputs": [],
   "source": [
    "from transformers import AutoModelForSeq2SeqLM, Seq2SeqTrainingArguments, Seq2SeqTrainer\n",
    "\n",
    "model = AutoModelForSeq2SeqLM.from_pretrained(loadedTokenizer)"
   ]
  },
  {
   "cell_type": "code",
   "execution_count": null,
   "id": "369d1972-b718-434d-8eaf-f627a5e66803",
   "metadata": {},
   "outputs": [],
   "source": [
    "import torch\n",
    "print(torch.cuda.is_available())\n",
    "print(torch.cuda.get_device_name(0))\n",
    "\n"
   ]
  },
  {
   "cell_type": "code",
   "execution_count": null,
   "id": "fce96658-6cc3-4197-8272-d62149dda03c",
   "metadata": {},
   "outputs": [],
   "source": [
    "training_args = Seq2SeqTrainingArguments(\n",
    "    output_dir=\"sum-it_model\",\n",
    "    eval_strategy=\"no\",\n",
    "    learning_rate=2e-5,\n",
    "    #per_device_train_batch_size=16,\n",
    "    #per_device_eval_batch_size=16,\n",
    "    per_device_train_batch_size=8,\n",
    "    gradient_accumulation_steps=2,\n",
    "    weight_decay=0.01,\n",
    "    save_total_limit=3,\n",
    "    num_train_epochs=1,\n",
    "    predict_with_generate=False,\n",
    "    fp16=True, #change to bf16=True for XPU\n",
    "    push_to_hub=True,\n",
    ")\n",
    "\n",
    "trainer = Seq2SeqTrainer(\n",
    "    model=model,\n",
    "    args=training_args,\n",
    "    train_dataset=tokenized_ds[\"train\"],\n",
    "    eval_dataset=tokenized_ds[\"test\"],\n",
    "    processing_class=tokenizer,\n",
    "    data_collator=data_collator,\n",
    "    compute_metrics=compute_metrics,\n",
    ")\n",
    "\n",
    "trainer.train()\n",
    "\n",
    "# training_args = Seq2SeqTrainingArguments(\n",
    "#     output_dir=\"my_awesome_billsum_model\",\n",
    "#     #eval_strategy=\"epoch\",\n",
    "#     save_strategy=\"epoch\",\n",
    "#     learning_rate=2e-5,\n",
    "#     per_device_train_batch_size=16,\n",
    "#     per_device_eval_batch_size=16,\n",
    "#     weight_decay=0.01,\n",
    "#     save_total_limit=3,\n",
    "#     num_train_epochs=4,\n",
    "#     predict_with_generate=True,\n",
    "#     fp16=True, #change to bf16=True for XPU\n",
    "#     push_to_hub=False,\n",
    "#     #dataloader_num_workers=4,  # or 8, depending on your CPU\n",
    "# )\n",
    "\n",
    "# trainer = Seq2SeqTrainer(\n",
    "#     model=model,\n",
    "#     args=training_args,\n",
    "#     train_dataset=tokenized_ds[\"train\"],\n",
    "#     eval_dataset=tokenized_ds[\"test\"],\n",
    "#     processing_class=tokenizer,\n",
    "#     data_collator=data_collator,\n",
    "#     compute_metrics=compute_metrics,\n",
    "# )\n",
    "\n",
    "# trainer.train()"
   ]
  },
  {
   "cell_type": "code",
   "execution_count": null,
   "id": "1b27ac04-0437-4f36-9030-5cc9402b7a4b",
   "metadata": {},
   "outputs": [],
   "source": [
    "trainer.push_to_hub()"
   ]
  }
 ],
 "metadata": {
  "kernelspec": {
   "display_name": "Python 3 (ipykernel)",
   "language": "python",
   "name": "python3"
  },
  "language_info": {
   "codemirror_mode": {
    "name": "ipython",
    "version": 3
   },
   "file_extension": ".py",
   "mimetype": "text/x-python",
   "name": "python",
   "nbconvert_exporter": "python",
   "pygments_lexer": "ipython3",
   "version": "3.13.3"
  }
 },
 "nbformat": 4,
 "nbformat_minor": 5
}
